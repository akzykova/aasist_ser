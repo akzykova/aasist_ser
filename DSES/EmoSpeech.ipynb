{
 "cells": [
  {
   "cell_type": "code",
   "execution_count": null,
   "metadata": {
    "_cell_guid": "b1076dfc-b9ad-4769-8c92-a6c4dae69d19",
    "_uuid": "8f2839f25d086af736a60e9eeb907d3b93b6e0e5",
    "execution": {
     "iopub.execute_input": "2025-04-07T21:18:28.311733Z",
     "iopub.status.busy": "2025-04-07T21:18:28.311522Z",
     "iopub.status.idle": "2025-04-07T21:19:58.217623Z",
     "shell.execute_reply": "2025-04-07T21:19:58.216476Z",
     "shell.execute_reply.started": "2025-04-07T21:18:28.311712Z"
    },
    "trusted": true
   },
   "outputs": [],
   "source": [
    "!git clone https://github.com/deepvk/emospeech.git\n",
    "%cd emospeech\n",
    "!pip install -r requirements.txt\n"
   ]
  },
  {
   "cell_type": "code",
   "execution_count": null,
   "metadata": {
    "execution": {
     "iopub.execute_input": "2025-04-07T14:12:44.721553Z",
     "iopub.status.busy": "2025-04-07T14:12:44.721068Z",
     "iopub.status.idle": "2025-04-07T14:12:44.728710Z",
     "shell.execute_reply": "2025-04-07T14:12:44.727404Z",
     "shell.execute_reply.started": "2025-04-07T14:12:44.721508Z"
    },
    "trusted": true
   },
   "outputs": [],
   "source": [
    "%cd /kaggle/working/emospeech"
   ]
  },
  {
   "cell_type": "code",
   "execution_count": null,
   "metadata": {
    "execution": {
     "iopub.execute_input": "2025-04-07T14:12:50.319542Z",
     "iopub.status.busy": "2025-04-07T14:12:50.319185Z",
     "iopub.status.idle": "2025-04-07T14:14:14.011179Z",
     "shell.execute_reply": "2025-04-07T14:14:14.010059Z",
     "shell.execute_reply.started": "2025-04-07T14:12:50.319504Z"
    },
    "trusted": true
   },
   "outputs": [],
   "source": [
    "!bash download_data.sh\n"
   ]
  },
  {
   "cell_type": "code",
   "execution_count": null,
   "metadata": {
    "execution": {
     "iopub.execute_input": "2025-04-07T14:14:14.012839Z",
     "iopub.status.busy": "2025-04-07T14:14:14.012541Z",
     "iopub.status.idle": "2025-04-07T14:14:28.271643Z",
     "shell.execute_reply": "2025-04-07T14:14:28.270139Z",
     "shell.execute_reply.started": "2025-04-07T14:14:14.012813Z"
    },
    "trusted": true
   },
   "outputs": [],
   "source": [
    "!pip uninstall -y numpy scipy\n",
    "!pip install numpy==1.25.2 scipy==1.11.4 --no-cache-dir --force-reinstall\n"
   ]
  },
  {
   "cell_type": "code",
   "execution_count": null,
   "metadata": {
    "trusted": true
   },
   "outputs": [],
   "source": [
    "import shutil\n",
    "\n",
    "# Пути исходного и целевого файлов\n",
    "source_path = \"/kaggle/input/emospeech-scripts/config.py\"\n",
    "destination_path = \"/kaggle/working/emospeech/config/config.py\"\n",
    "\n",
    "# Копируем файл с заменой\n",
    "shutil.copyfile(source_path, destination_path)\n",
    "\n",
    "print(\"Файл успешно заменен!\")"
   ]
  },
  {
   "cell_type": "code",
   "execution_count": null,
   "metadata": {
    "trusted": true
   },
   "outputs": [],
   "source": [
    "source_path = \"/kaggle/input/emospeech-scripts/inference.py\"\n",
    "destination_path = \"/kaggle/working/emospeech/src/scripts/inference.py\"\n",
    "\n",
    "shutil.copyfile(source_path, destination_path)\n",
    "\n",
    "print(\"Файл успешно заменен!\")"
   ]
  },
  {
   "cell_type": "code",
   "execution_count": null,
   "metadata": {
    "trusted": true
   },
   "outputs": [],
   "source": [
    "%cd /kaggle/working/emospeech\n",
    "!python -m src.preprocess.preprocess\n"
   ]
  },
  {
   "cell_type": "code",
   "execution_count": null,
   "metadata": {
    "trusted": true
   },
   "outputs": [],
   "source": [
    "!pip install --upgrade --force-reinstall numpy\n"
   ]
  },
  {
   "cell_type": "code",
   "execution_count": null,
   "metadata": {
    "trusted": true
   },
   "outputs": [],
   "source": [
    "!pip install \"numpy<2\" --upgrade"
   ]
  },
  {
   "cell_type": "code",
   "execution_count": null,
   "metadata": {
    "trusted": true
   },
   "outputs": [],
   "source": [
    "import subprocess\n",
    "import os\n",
    "\n",
    "input_file = '/kaggle/input/emospeech-scripts/processed_phonemes.txt'\n",
    "\n",
    "emotions = {\n",
    "    0: \"neutral\",\n",
    "    1: \"angry\",\n",
    "    2: \"happy\",\n",
    "    3: \"sad\",\n",
    "    4: \"surprised\"\n",
    "}\n",
    "\n",
    "speaker_id = 2\n",
    "base_dir = '/kaggle/working/'\n",
    "start_phrase = 216\n",
    "\n",
    "for emo_name in emotions.values():\n",
    "    os.makedirs(f'{base_dir}/{emo_name}', exist_ok=True)\n",
    "\n",
    "with open(input_file, \"r\") as f:\n",
    "    for i, line in enumerate(f):\n",
    "        current_phrase_num = i + 1  # Нумерация с 1 вместо 0\n",
    "        \n",
    "        if current_phrase_num < start_phrase:  # Пропускаем фразы до 201\n",
    "            continue\n",
    "            \n",
    "        phoneme_sequence = line.strip()\n",
    "        if not phoneme_sequence:\n",
    "            continue\n",
    "\n",
    "        for emo_id, emo_name in emotions.items():\n",
    "            filename = f'{current_phrase_num}.wav'\n",
    "            path = f'{base_dir}/{emo_name}/{filename}'\n",
    "\n",
    "            command = [\n",
    "                \"python\", \"-m\", \"src.scripts.inference\",\n",
    "                \"-sq\", phoneme_sequence,\n",
    "                \"-em\", str(emo_id),\n",
    "                \"-sp\", str(speaker_id),\n",
    "                \"-p\", path\n",
    "            ]\n",
    "\n",
    "            print(f\"\\n [{current_phrase_num}] Эмоция: {emo_name.upper()} | Фонемы: {phoneme_sequence}\")\n",
    "            print(\"Команда:\", \" \".join(command))\n",
    "\n",
    "            try:\n",
    "                result = subprocess.run(command, capture_output=True, text=True, check=True)\n",
    "                if result.stdout:\n",
    "                    print(\"Результат:\", result.stdout)\n",
    "            except subprocess.CalledProcessError as e:\n",
    "                print(\"Ошибка:\", e.stderr)\n",
    "                continue\n",
    "\n",
    "print(f\"\\n✅ Готово! Обработаны фразы начиная с {start_phrase}. Результаты в {base_dir}\")"
   ]
  },
  {
   "cell_type": "code",
   "execution_count": null,
   "metadata": {
    "trusted": true
   },
   "outputs": [],
   "source": [
    "!rm -rf /kaggle/working/emospeech"
   ]
  }
 ],
 "metadata": {
  "kaggle": {
   "accelerator": "nvidiaTeslaT4",
   "dataSources": [
    {
     "datasetId": 7075030,
     "sourceId": 11311888,
     "sourceType": "datasetVersion"
    }
   ],
   "dockerImageVersionId": 30919,
   "isGpuEnabled": true,
   "isInternetEnabled": true,
   "language": "python",
   "sourceType": "notebook"
  },
  "kernelspec": {
   "display_name": "Python 3",
   "language": "python",
   "name": "python3"
  },
  "language_info": {
   "codemirror_mode": {
    "name": "ipython",
    "version": 3
   },
   "file_extension": ".py",
   "mimetype": "text/x-python",
   "name": "python",
   "nbconvert_exporter": "python",
   "pygments_lexer": "ipython3",
   "version": "3.10.12"
  }
 },
 "nbformat": 4,
 "nbformat_minor": 4
}
